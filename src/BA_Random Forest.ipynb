{
 "cells": [
  {
   "cell_type": "code",
   "execution_count": 2,
   "metadata": {},
   "outputs": [],
   "source": [
    "from __future__ import division\n",
    "import time\n",
    "\n",
    "import numpy as np\n",
    "import pandas as pd\n",
    "from sklearn.svm import SVR\n",
    "from sklearn.svm import LinearSVR\n",
    "from sklearn.model_selection import GridSearchCV\n",
    "from sklearn.model_selection import learning_curve\n",
    "import matplotlib.pyplot as plt\n",
    "from sklearn.model_selection import train_test_split\n"
   ]
  },
  {
   "cell_type": "code",
   "execution_count": null,
   "metadata": {},
   "outputs": [],
   "source": [
    "df = pd.read_csv('/Users/a781424259/Desktop/Bussiness Analytics/Final Project/stockx_machine_learning_analysis-master/data/data_prep_wo_trend.csv')"
   ]
  },
  {
   "cell_type": "code",
   "execution_count": null,
   "metadata": {},
   "outputs": [],
   "source": [
    "df1 = df.drop(['Unnamed: 0','Colorful'],axis=1)\n",
    "# df1 = df1[:100]"
   ]
  },
  {
   "cell_type": "code",
   "execution_count": null,
   "metadata": {},
   "outputs": [],
   "source": [
    "# df = df.rename(columns={\"Unnamed: 0\": \"index\"})\n",
    "# Train-Test Splitting\n",
    "x = df1.drop([\"Pct_change\",'Sale Price'], axis=1)\n",
    "y = df1[\"Pct_change\"]"
   ]
  },
  {
   "cell_type": "code",
   "execution_count": null,
   "metadata": {},
   "outputs": [],
   "source": [
    "np.random.seed(1)\n",
    "x_train, x_test, y_train, y_test = train_test_split(x,y,test_size = 0.3)"
   ]
  },
  {
   "cell_type": "code",
   "execution_count": null,
   "metadata": {},
   "outputs": [],
   "source": [
    "from sklearn import preprocessing\n",
    "x_train = preprocessing.scale(x_train)\n",
    "x_test = preprocessing.scale(x_test)"
   ]
  },
  {
   "cell_type": "code",
   "execution_count": null,
   "metadata": {},
   "outputs": [],
   "source": [
    "linearsvr = LinearSVR()"
   ]
  },
  {
   "cell_type": "code",
   "execution_count": null,
   "metadata": {},
   "outputs": [],
   "source": [
    "# svr = GridSearchCV(SVR(kernel='rbf', gamma=0.1, cache_size=7000), cv=5,\n",
    "#                    param_grid={\"C\": [10, 1e0, 1e1, 1e2, 1e3],\n",
    "#                                \"gamma\": np.logspace(-2, 2, 5)})"
   ]
  },
  {
   "cell_type": "code",
   "execution_count": null,
   "metadata": {},
   "outputs": [],
   "source": [
    "svr = GridSearchCV(LinearSVR(tol=0.01), cv=5,\n",
    "                   param_grid={\"C\": [0.01,0.1,1e0, 1e1]})"
   ]
  },
  {
   "cell_type": "code",
   "execution_count": null,
   "metadata": {},
   "outputs": [],
   "source": [
    "svr.fit(x_train, y_train)"
   ]
  },
  {
   "cell_type": "code",
   "execution_count": null,
   "metadata": {},
   "outputs": [],
   "source": [
    "svr.best_params_"
   ]
  },
  {
   "cell_type": "code",
   "execution_count": null,
   "metadata": {},
   "outputs": [],
   "source": [
    "svr.best_estimator_"
   ]
  },
  {
   "cell_type": "code",
   "execution_count": null,
   "metadata": {},
   "outputs": [],
   "source": [
    "y_pred = svr.predict(x_test)"
   ]
  },
  {
   "cell_type": "code",
   "execution_count": null,
   "metadata": {},
   "outputs": [],
   "source": [
    "from sklearn import metrics\n",
    "from sklearn.metrics import  r2_score,mean_absolute_error,mean_squared_log_error,median_absolute_error,explained_variance_score\n",
    "\n",
    "print('R²: %.2f' % r2_score(y_test, y_pred))\n",
    "# print(\"mean_squared_log_error: %.2f\" % mean_squared_log_error(y_test, y_pred))\n",
    "print(\"mean_absolute_error: %.2f\" % mean_absolute_error(y_test, y_pred))\n",
    "print(\"median_absolute_error: %.2f\" % median_absolute_error(y_test, y_pred))\n",
    "print(\"explained_variance_score: %.2f\" % explained_variance_score(y_test, y_pred))"
   ]
  },
  {
   "cell_type": "code",
   "execution_count": null,
   "metadata": {},
   "outputs": [],
   "source": []
  },
  {
   "cell_type": "code",
   "execution_count": null,
   "metadata": {},
   "outputs": [],
   "source": []
  },
  {
   "cell_type": "markdown",
   "metadata": {},
   "source": [
    "#Random Forest"
   ]
  },
  {
   "cell_type": "code",
   "execution_count": 3,
   "metadata": {},
   "outputs": [],
   "source": [
    "df = pd.read_csv('/Users/a781424259/Desktop/Bussiness Analytics/Final Project/stockx_machine_learning_analysis-master/data/data_prep_wo_trend.csv')\n",
    "df1 = df.drop(['Unnamed: 0','Colorful'],axis=1)\n",
    "x = df1.drop([\"Pct_change\",'Sale Price'], axis=1)\n",
    "y = df1[\"Pct_change\"]\n",
    "np.random.seed(1)\n",
    "x_train, x_test, y_train, y_test = train_test_split(x,y,test_size = 0.3)"
   ]
  },
  {
   "cell_type": "code",
   "execution_count": 4,
   "metadata": {},
   "outputs": [
    {
     "name": "stdout",
     "output_type": "stream",
     "text": [
      "<class 'pandas.core.frame.DataFrame'>\n",
      "Int64Index: 69969 entries, 94389 to 98539\n",
      "Data columns (total 29 columns):\n",
      "Days Since Release    69969 non-null float64\n",
      "yeezy                 69969 non-null int64\n",
      "airjordan             69969 non-null int64\n",
      "airforce              69969 non-null int64\n",
      "airmax90              69969 non-null int64\n",
      "airmax97              69969 non-null int64\n",
      "presto                69969 non-null int64\n",
      "vapormax              69969 non-null int64\n",
      "blazer                69969 non-null int64\n",
      "zoom                  69969 non-null int64\n",
      "react                 69969 non-null int64\n",
      "California            69969 non-null int64\n",
      "New York              69969 non-null int64\n",
      "Oregon                69969 non-null int64\n",
      "Florida               69969 non-null int64\n",
      "Texas                 69969 non-null int64\n",
      "Other States          69969 non-null int64\n",
      "Black                 69969 non-null float64\n",
      "White                 69969 non-null float64\n",
      "Grey                  69969 non-null float64\n",
      "Red                   69969 non-null float64\n",
      "Green                 69969 non-null float64\n",
      "Neo                   69969 non-null float64\n",
      "Orange                69969 non-null float64\n",
      "Tan/Brown             69969 non-null float64\n",
      "Pink                  69969 non-null float64\n",
      "Blue                  69969 non-null float64\n",
      "Number of Sales       69969 non-null int64\n",
      "size_freq             69969 non-null float64\n",
      "dtypes: float64(12), int64(17)\n",
      "memory usage: 16.0 MB\n"
     ]
    }
   ],
   "source": [
    "x_train.info()"
   ]
  },
  {
   "cell_type": "code",
   "execution_count": 5,
   "metadata": {},
   "outputs": [
    {
     "data": {
      "text/plain": [
       "RandomForestRegressor(bootstrap=True, ccp_alpha=0.0, criterion='mse',\n",
       "                      max_depth=50, max_features='auto', max_leaf_nodes=None,\n",
       "                      max_samples=None, min_impurity_decrease=0.0,\n",
       "                      min_impurity_split=None, min_samples_leaf=1,\n",
       "                      min_samples_split=2, min_weight_fraction_leaf=0.0,\n",
       "                      n_estimators=100, n_jobs=None, oob_score=False,\n",
       "                      random_state=None, verbose=0, warm_start=False)"
      ]
     },
     "execution_count": 5,
     "metadata": {},
     "output_type": "execute_result"
    }
   ],
   "source": [
    "from sklearn.ensemble import RandomForestRegressor\n",
    "sk_model=RandomForestRegressor(n_estimators=100, max_depth=50)\n",
    "sk_model.fit(x_train, y_train)  "
   ]
  },
  {
   "cell_type": "code",
   "execution_count": 6,
   "metadata": {},
   "outputs": [
    {
     "data": {
      "text/plain": [
       "GridSearchCV(cv=5, error_score=nan,\n",
       "             estimator=RandomForestRegressor(bootstrap=True, ccp_alpha=0.0,\n",
       "                                             criterion='mse', max_depth=10,\n",
       "                                             max_features='auto',\n",
       "                                             max_leaf_nodes=None,\n",
       "                                             max_samples=None,\n",
       "                                             min_impurity_decrease=0.0,\n",
       "                                             min_impurity_split=None,\n",
       "                                             min_samples_leaf=1,\n",
       "                                             min_samples_split=2,\n",
       "                                             min_weight_fraction_leaf=0.0,\n",
       "                                             n_estimators=100, n_jobs=None,\n",
       "                                             oob_score=False, random_state=None,\n",
       "                                             verbose=0, warm_start=False),\n",
       "             iid='deprecated', n_jobs=None,\n",
       "             param_grid={'max_depth': [2, 4, 5],\n",
       "                         'max_leaf_nodes': [10, 100, 500]},\n",
       "             pre_dispatch='2*n_jobs', refit=True, return_train_score=False,\n",
       "             scoring=None, verbose=0)"
      ]
     },
     "execution_count": 6,
     "metadata": {},
     "output_type": "execute_result"
    }
   ],
   "source": [
    "param_grid = {\n",
    "    'max_depth':[2,4,5],\n",
    "    'max_leaf_nodes':[10,100,500],  \n",
    "}\n",
    "\n",
    "model = RandomForestRegressor(n_estimators=100, max_depth=10)\n",
    "\n",
    "clf = GridSearchCV(model, cv=5,\n",
    "                   param_grid=param_grid)\n",
    "clf.fit(x_train, y_train) "
   ]
  },
  {
   "cell_type": "code",
   "execution_count": 7,
   "metadata": {},
   "outputs": [],
   "source": [
    "clf.best_params_\n",
    "sk_model=clf.best_estimator_"
   ]
  },
  {
   "cell_type": "code",
   "execution_count": 8,
   "metadata": {},
   "outputs": [
    {
     "data": {
      "text/plain": [
       "RandomForestRegressor(bootstrap=True, ccp_alpha=0.0, criterion='mse',\n",
       "                      max_depth=5, max_features='auto', max_leaf_nodes=500,\n",
       "                      max_samples=None, min_impurity_decrease=0.0,\n",
       "                      min_impurity_split=None, min_samples_leaf=1,\n",
       "                      min_samples_split=2, min_weight_fraction_leaf=0.0,\n",
       "                      n_estimators=100, n_jobs=None, oob_score=False,\n",
       "                      random_state=None, verbose=0, warm_start=False)"
      ]
     },
     "execution_count": 8,
     "metadata": {},
     "output_type": "execute_result"
    }
   ],
   "source": [
    "sk_model"
   ]
  },
  {
   "cell_type": "code",
   "execution_count": 9,
   "metadata": {},
   "outputs": [],
   "source": [
    "y_pred2 = sk_model.predict(x_test)\n",
    "# y_pred2[y_pred2==np.nan]\n",
    "# y_test[y_test==np.nan]"
   ]
  },
  {
   "cell_type": "code",
   "execution_count": 10,
   "metadata": {},
   "outputs": [
    {
     "name": "stdout",
     "output_type": "stream",
     "text": [
      "R²: 0.87\n",
      "mean_absolute_error: 0.28\n",
      "median_absolute_error: 0.12\n",
      "explained_variance_score: 0.87\n"
     ]
    }
   ],
   "source": [
    "from sklearn import metrics\n",
    "from sklearn.metrics import  r2_score,mean_absolute_error,mean_squared_log_error,median_absolute_error,explained_variance_score\n",
    "\n",
    "print('R²: %.2f' % r2_score(y_test, y_pred2))\n",
    "# print(\"mean_squared_log_error: %.2f\" % mean_squared_log_error(y_test, y_pred2))\n",
    "print(\"mean_absolute_error: %.2f\" % mean_absolute_error(y_test, y_pred2))\n",
    "print(\"median_absolute_error: %.2f\" % median_absolute_error(y_test, y_pred2))\n",
    "print(\"explained_variance_score: %.2f\" % explained_variance_score(y_test, y_pred2))"
   ]
  },
  {
   "cell_type": "code",
   "execution_count": 11,
   "metadata": {},
   "outputs": [
    {
     "data": {
      "text/plain": [
       "[('Number of Sales', 0.6709853430420372),\n",
       " ('zoom', 0.1008524258329864),\n",
       " ('airjordan', 0.09251103602505416),\n",
       " ('Days Since Release', 0.05013460042345882),\n",
       " ('vapormax', 0.03058025440657385),\n",
       " ('presto', 0.024049479410682948),\n",
       " ('airforce', 0.014608708041116462),\n",
       " ('Blue', 0.008363934125194965),\n",
       " ('Neo', 0.0048801674830885),\n",
       " ('White', 0.0013454761103153657),\n",
       " ('Grey', 0.001092436610572701),\n",
       " ('Black', 0.0004105883912228963),\n",
       " ('size_freq', 0.000149790702656682),\n",
       " ('Other States', 3.3958174335243984e-05),\n",
       " ('New York', 1.8012207039122389e-06)]"
      ]
     },
     "execution_count": 11,
     "metadata": {},
     "output_type": "execute_result"
    }
   ],
   "source": [
    "index=sk_model.feature_importances_.argsort()[::-1][0:15]\n",
    "index_imp=sk_model.feature_importances_[index]\n",
    "index_name=x.columns[index].tolist()\n",
    "feature_importance=list(zip(index_name,index_imp))\n",
    "feature_importance"
   ]
  },
  {
   "cell_type": "code",
   "execution_count": 12,
   "metadata": {},
   "outputs": [
    {
     "data": {
      "text/plain": [
       "<BarContainer object of 15 artists>"
      ]
     },
     "execution_count": 12,
     "metadata": {},
     "output_type": "execute_result"
    },
    {
     "data": {
      "image/png": "[encoded data removed]",
      "text/plain": [
       "<Figure size 1080x576 with 1 Axes>"
      ]
     },
     "metadata": {
      "needs_background": "light"
     },
     "output_type": "display_data"
    }
   ],
   "source": [
    "import matplotlib.pyplot as plt\n",
    "\n",
    "%matplotlib inline\n",
    "plt.figure(figsize=(15,8))\n",
    "ind = [k for k in range(15)]\n",
    "plt.barh(ind, index_imp[::-1], tick_label = index_name[::-1])"
   ]
  },
  {
   "cell_type": "code",
   "execution_count": null,
   "metadata": {},
   "outputs": [],
   "source": []
  }
 ],
 "metadata": {
  "kernelspec": {
   "display_name": "Python 3",
   "language": "python",
   "name": "python3"
  },
  "language_info": {
   "codemirror_mode": {
    "name": "ipython",
    "version": 3
   },
   "file_extension": ".py",
   "mimetype": "text/x-python",
   "name": "python",
   "nbconvert_exporter": "python",
   "pygments_lexer": "ipython3",
   "version": "3.7.4"
  }
 },
 "nbformat": 4,
 "nbformat_minor": 2
}
