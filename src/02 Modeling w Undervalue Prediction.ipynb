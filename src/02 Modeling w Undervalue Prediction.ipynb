{
 "cells": [
  {
   "cell_type": "markdown",
   "metadata": {},
   "source": [
    "### Import Libraries"
   ]
  },
  {
   "cell_type": "code",
   "execution_count": 1,
   "metadata": {},
   "outputs": [],
   "source": [
    "# conda install -c conda-forge xgboost"
   ]
  },
  {
   "cell_type": "code",
   "execution_count": 1,
   "metadata": {},
   "outputs": [],
   "source": [
    "import random\n",
    "import pandas as pd\n",
    "import numpy as np\n",
    "import matplotlib.pyplot as plt\n",
    "\n",
    "from sklearn import preprocessing\n",
    "from sklearn.model_selection import train_test_split\n",
    "from sklearn.model_selection import GridSearchCV\n",
    "from sklearn.model_selection import learning_curve\n",
    "from sklearn.model_selection import cross_val_score\n",
    "from sklearn.model_selection import KFold\n",
    "\n",
    "from sklearn.metrics import r2_score\n",
    "from sklearn.metrics import mean_squared_error\n",
    "from sklearn.metrics import make_scorer\n",
    "\n",
    "from sklearn.linear_model import Lasso"
   ]
  },
  {
   "cell_type": "markdown",
   "metadata": {},
   "source": [
    "### Preparing Data"
   ]
  },
  {
   "cell_type": "code",
   "execution_count": 2,
   "metadata": {},
   "outputs": [],
   "source": [
    "# read data\n",
    "data = pd.read_csv(\"../data/StockX-Data-Consolidated.csv\")\n",
    "data = data.rename(columns={\"Unnamed: 0\": \"index\"})"
   ]
  },
  {
   "cell_type": "code",
   "execution_count": 3,
   "metadata": {},
   "outputs": [],
   "source": [
    "# train-test split\n",
    "x = data.drop([\"Pct_change\",'Sale Price','index','California','New York','Oregon','Florida','Texas','Other States','Colorful'], axis=1)\n",
    "y = data[\"Pct_change\"]\n",
    "x_train, x_test, y_train, y_test = train_test_split(x,y,test_size = 0.25, random_state = 42)"
   ]
  },
  {
   "cell_type": "markdown",
   "metadata": {},
   "source": [
    "### Predictive Modeling"
   ]
  },
  {
   "cell_type": "code",
   "execution_count": 4,
   "metadata": {},
   "outputs": [],
   "source": [
    "%%capture\n",
    "random.seed(1)\n",
    "\n",
    "# fit LASSO with 5-fold cross validation\n",
    "lasso = Lasso()\n",
    "parameters = {'alpha': [1e-7,1e-6,1e-5,1e-4,1e-3,1e-2,1e-1,1e0,1e1,1e2,1e3,1e4,1e5]}\n",
    "r2 = make_scorer(r2_score, greater_is_better=True)\n",
    "clf = GridSearchCV(lasso, \n",
    "                   parameters, \n",
    "                   cv=5,\n",
    "                   scoring=r2)\n",
    "clf.fit(x_train, y_train)"
   ]
  },
  {
   "cell_type": "code",
   "execution_count": 5,
   "metadata": {},
   "outputs": [
    {
     "name": "stdout",
     "output_type": "stream",
     "text": [
      "Score: 0.7748125944333327\n"
     ]
    }
   ],
   "source": [
    "# cross validation score\n",
    "lasso_best_params = clf.best_params_\n",
    "lasso_best_estimator = clf.best_estimator_\n",
    "lasso_score = clf.best_score_\n",
    "print(\"Score: \"+ str(lasso_score))"
   ]
  },
  {
   "cell_type": "markdown",
   "metadata": {},
   "source": [
    "### The LASSO Model"
   ]
  },
  {
   "cell_type": "code",
   "execution_count": 6,
   "metadata": {},
   "outputs": [
    {
     "name": "stderr",
     "output_type": "stream",
     "text": [
      "//anaconda3/lib/python3.7/site-packages/sklearn/linear_model/coordinate_descent.py:475: ConvergenceWarning: Objective did not converge. You might want to increase the number of iterations. Duality gap: 6644.072514052255, tolerance: 17.036366441485814\n",
      "  positive)\n"
     ]
    }
   ],
   "source": [
    "# retrain lasso model on full traning data\n",
    "lasso = Lasso(alpha=lasso_best_params['alpha'])\n",
    "final_model = lasso.fit(x_train, y_train)"
   ]
  },
  {
   "cell_type": "code",
   "execution_count": 7,
   "metadata": {},
   "outputs": [
    {
     "name": "stdout",
     "output_type": "stream",
     "text": [
      "intercept: 2.3556421430045162\n",
      "Days Since Release 0.0008969888841417115\n",
      "yeezy -2.138417515834348\n",
      "airjordan 3.2365345343377365\n",
      "airforce -0.9827397523426478\n",
      "airmax90 -0.34401210920306713\n",
      "airmax97 -0.2837801685576994\n",
      "presto 0.6952847907426327\n",
      "vapormax -1.5425138197890393\n",
      "blazer 0.5806614566880155\n",
      "zoom -2.1647266625242296\n",
      "react -1.7049611560117834\n",
      "size_freq 0.24334106122880125\n",
      "Black 0.4907603583909212\n",
      "White 0.709215356313826\n",
      "Grey 0.23800636885293228\n",
      "Red 1.7845337138263782\n",
      "Green 0.6164592860192896\n",
      "Neo 0.1910647317867885\n",
      "Orange 0.7531739806945558\n",
      "Tan/Brown 1.8276624000242716\n",
      "Pink 0.7002403108432268\n",
      "Blue -2.5354574513469417\n",
      "Number of Sales -3.631622959562983e-05\n"
     ]
    }
   ],
   "source": [
    "# print regression results\n",
    "print(\"intercept:\", final_model.intercept_)\n",
    "variables = x_train.columns\n",
    "coefficients = final_model.coef_\n",
    "for i,name in enumerate(variables):\n",
    "    print(name, coefficients[i])"
   ]
  },
  {
   "cell_type": "code",
   "execution_count": 8,
   "metadata": {},
   "outputs": [
    {
     "name": "stdout",
     "output_type": "stream",
     "text": [
      "R²: 0.77\n",
      "mean_squared_error: 0.53\n"
     ]
    }
   ],
   "source": [
    "# test set performance\n",
    "y_pred = final_model.predict(x_test)\n",
    "print('R²: %.2f' % r2_score(y_test, y_pred))\n",
    "print(\"mean_squared_error: %.2f\" % mean_squared_error(y_test, y_pred))"
   ]
  },
  {
   "cell_type": "markdown",
   "metadata": {},
   "source": [
    "### Undervalued Sneakers - Predicted as of 03/26/2020"
   ]
  },
  {
   "cell_type": "code",
   "execution_count": 10,
   "metadata": {},
   "outputs": [
    {
     "data": {
      "text/plain": [
       "array([8.02027998])"
      ]
     },
     "execution_count": 10,
     "metadata": {},
     "output_type": "execute_result"
    }
   ],
   "source": [
    "# Jordan 1 Retro High Travis Scott --> Released 05/11/2019\n",
    "# https://stockx.com/air-jordan-1-retro-high-travis-scott?utm_source=google&utm_medium=cpc&utm_campaign=US-JordanGeneralSneakers&utm_campaignid=413888648&content=191928849084&keyword=jordan%201%20retro%20high%20travis%20scott&gclid=CjwKCAjw3-bzBRBhEiwAgnnLCsujrgiqwccfPrfXmgB4yc0Gp_hy7sSxyNEdaB7hFEjdZWrpasJsohoCZtQQAvD_BwE\n",
    "undervalued_sneakers = {\"Days Since Release\": 320,\n",
    "                        \"yeezy\": 0,\n",
    "                        \"airjordan\": 1,\n",
    "                        \"airforce\": 0,\n",
    "                        \"airmax90\": 0,\n",
    "                        \"airmax97\": 0,\n",
    "                        \"presto\": 0,\n",
    "                        \"vapormax\": 0,\n",
    "                        \"blazer\": 0,\n",
    "                        \"zoom\": 0,\n",
    "                        \"react\": 0,\n",
    "                        \"size_freq\": 0.198857,\n",
    "                        \"Black\": 1,\n",
    "                        \"White\": 1,\n",
    "                        \"Grey\": 0,\n",
    "                        \"Red\": 0,\n",
    "                        \"Green\": 0,\n",
    "                        \"Neo\": 0,\n",
    "                        \"Orange\": 0,\n",
    "                        \"Tan/Brown\": 1,\n",
    "                        \"Pink\": 0, \n",
    "                        \"Blue\": 0,\n",
    "                        \"Number of Sales\": 25745}\n",
    "\n",
    "undervalued_sneaker = pd.DataFrame([undervalued_sneakers])\n",
    "pred = final_model.predict(undervalued_sneaker)\n",
    "pred # current price premium 562.9% --> undervalued"
   ]
  },
  {
   "cell_type": "code",
   "execution_count": 11,
   "metadata": {},
   "outputs": [
    {
     "data": {
      "text/plain": [
       "array([4.55497764])"
      ]
     },
     "execution_count": 11,
     "metadata": {},
     "output_type": "execute_result"
    }
   ],
   "source": [
    "# Nike Blazer Mid 77 Vintage Slam Jam --> Released 01/08/2019\n",
    "# https://stockx.com/nike-blazer-mid-77-vintage-slam-jam-special-slam-jam-box\n",
    "undervalued_sneakers = {\"Days Since Release\": 441,\n",
    "                        \"yeezy\": 0,\n",
    "                        \"airjordan\": 0,\n",
    "                        \"airforce\": 0,\n",
    "                        \"airmax90\": 0,\n",
    "                        \"airmax97\": 0,\n",
    "                        \"presto\": 0,\n",
    "                        \"vapormax\": 0,\n",
    "                        \"blazer\": 1,\n",
    "                        \"zoom\": 0,\n",
    "                        \"react\": 0,\n",
    "                        \"size_freq\": 0.106677,\n",
    "                        \"Black\": 1,\n",
    "                        \"White\": 1,\n",
    "                        \"Grey\": 0,\n",
    "                        \"Red\": 0,\n",
    "                        \"Green\": 0,\n",
    "                        \"Neo\": 0,\n",
    "                        \"Orange\": 0,\n",
    "                        \"Tan/Brown\": 0,\n",
    "                        \"Pink\": 0, \n",
    "                        \"Blue\": 0,\n",
    "                        \"Number of Sales\": 78}\n",
    "\n",
    "undervalued_sneaker = pd.DataFrame([undervalued_sneakers])\n",
    "pred = final_model.predict(undervalued_sneaker)\n",
    "pred # current price premium 381.0%% --> undervalued"
   ]
  },
  {
   "cell_type": "code",
   "execution_count": 12,
   "metadata": {},
   "outputs": [
    {
     "data": {
      "text/plain": [
       "array([2.55140481])"
      ]
     },
     "execution_count": 12,
     "metadata": {},
     "output_type": "execute_result"
    }
   ],
   "source": [
    "# adidas Yeezy Boost 350 V2 Tail Light --> Released 02/22/2020\n",
    "# https://stockx.com/adidas-yeezy-boost-350-v2-tail-light\n",
    "undervalued_sneakers = {\"Days Since Release\": 33,\n",
    "                        \"yeezy\": 1,\n",
    "                        \"airjordan\": 0,\n",
    "                        \"airforce\": 0,\n",
    "                        \"airmax90\": 0,\n",
    "                        \"airmax97\": 0,\n",
    "                        \"presto\": 0,\n",
    "                        \"vapormax\": 0,\n",
    "                        \"blazer\": 0,\n",
    "                        \"zoom\": 0,\n",
    "                        \"react\": 0,\n",
    "                        \"size_freq\": 0.198857,\n",
    "                        \"Black\": 0,\n",
    "                        \"White\": 0,\n",
    "                        \"Grey\": 1,\n",
    "                        \"Red\": 0,\n",
    "                        \"Green\": 0,\n",
    "                        \"Neo\": 0,\n",
    "                        \"Orange\": 1,\n",
    "                        \"Tan/Brown\": 0,\n",
    "                        \"Pink\": 0, \n",
    "                        \"Blue\": 0,\n",
    "                        \"Number of Sales\": 12848}\n",
    "\n",
    "undervalued_sneaker = pd.DataFrame([undervalued_sneakers])\n",
    "pred = final_model.predict(undervalued_sneaker)\n",
    "pred # current price premium 31.8% --> undervalued"
   ]
  }
 ],
 "metadata": {
  "kernelspec": {
   "display_name": "Python 3",
   "language": "python",
   "name": "python3"
  },
  "language_info": {
   "codemirror_mode": {
    "name": "ipython",
    "version": 3
   },
   "file_extension": ".py",
   "mimetype": "text/x-python",
   "name": "python",
   "nbconvert_exporter": "python",
   "pygments_lexer": "ipython3",
   "version": "3.7.3"
  }
 },
 "nbformat": 4,
 "nbformat_minor": 2
}
