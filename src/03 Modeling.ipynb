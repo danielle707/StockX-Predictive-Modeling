{
 "cells": [
  {
   "cell_type": "markdown",
   "metadata": {},
   "source": [
    "### Import Libraries"
   ]
  },
  {
   "cell_type": "code",
   "execution_count": 1,
   "metadata": {},
   "outputs": [],
   "source": [
    "# conda install -c conda-forge xgboost"
   ]
  },
  {
   "cell_type": "code",
   "execution_count": 2,
   "metadata": {},
   "outputs": [],
   "source": [
    "import random\n",
    "import pandas as pd\n",
    "import numpy as np\n",
    "import matplotlib.pyplot as plt\n",
    "\n",
    "from sklearn import preprocessing\n",
    "from sklearn.model_selection import train_test_split\n",
    "from sklearn.model_selection import GridSearchCV\n",
    "from sklearn.model_selection import learning_curve\n",
    "from sklearn.model_selection import cross_val_score\n",
    "from sklearn.model_selection import KFold\n",
    "\n",
    "from sklearn.metrics import r2_score\n",
    "from sklearn.metrics import mean_squared_error\n",
    "from sklearn.metrics import make_scorer\n",
    "\n",
    "import xgboost as xgb\n",
    "from sklearn.svm import SVR\n",
    "from sklearn.svm import LinearSVR\n",
    "from sklearn.linear_model import Lasso"
   ]
  },
  {
   "cell_type": "markdown",
   "metadata": {},
   "source": [
    "### Preparing Data"
   ]
  },
  {
   "cell_type": "code",
   "execution_count": 3,
   "metadata": {},
   "outputs": [],
   "source": [
    "# read data\n",
    "data = pd.read_csv(\"../data/StockX-Data-Consolidated.csv\")\n",
    "data = data.rename(columns={\"Unnamed: 0\": \"index\"})"
   ]
  },
  {
   "cell_type": "code",
   "execution_count": 4,
   "metadata": {},
   "outputs": [],
   "source": [
    "# train-test split\n",
    "x = data.drop([\"Pct_change\",'Sale Price','index'], axis=1)\n",
    "y = data[\"Pct_change\"]\n",
    "x_train, x_test, y_train, y_test = train_test_split(x,y,test_size = 0.25, random_state = 42)"
   ]
  },
  {
   "cell_type": "markdown",
   "metadata": {},
   "source": [
    "### Model Selection"
   ]
  },
  {
   "cell_type": "markdown",
   "metadata": {},
   "source": [
    "##### Model 1: XGBoost"
   ]
  },
  {
   "cell_type": "code",
   "execution_count": 5,
   "metadata": {},
   "outputs": [],
   "source": [
    "%%capture\n",
    "random.seed(1)\n",
    "\n",
    "# fit XGBoost with 5-fold cross validation\n",
    "params = {'colsample_bytree': [i/10. for i in range(8,11)],\n",
    "          'subsample': [i/10. for i in range(8,11)],\n",
    "          'eta': [.3, .4, .5],\n",
    "          'max_depth': list(range(3,6)),\n",
    "          'min_child_weight': list(range(4,7)),\n",
    "          'eval_metric': ['rmse'],\n",
    "          'objective': ['reg:squarederror']}\n",
    "xg_reg = xgb.XGBRegressor()\n",
    "r2 = make_scorer(r2_score, greater_is_better=True)\n",
    "clf = GridSearchCV(xg_reg, \n",
    "                   params, \n",
    "                   cv=5, \n",
    "                   scoring=r2)\n",
    "clf.fit(x_train, y_train)"
   ]
  },
  {
   "cell_type": "code",
   "execution_count": 6,
   "metadata": {},
   "outputs": [
    {
     "name": "stdout",
     "output_type": "stream",
     "text": [
      "Score: 0.9670915649887809\n"
     ]
    }
   ],
   "source": [
    "# cross validation score\n",
    "boost_best_params = clf.best_params_\n",
    "boost_best_estimator = clf.best_estimator_\n",
    "boost_score = clf.best_score_\n",
    "print(\"Score: \"+ str(boost_score))"
   ]
  },
  {
   "cell_type": "code",
   "execution_count": 7,
   "metadata": {},
   "outputs": [
    {
     "data": {
      "text/plain": [
       "XGBRegressor(base_score=0.5, booster='gbtree', colsample_bylevel=1,\n",
       "             colsample_bynode=1, colsample_bytree=1.0, eta=0.3,\n",
       "             eval_metric='rmse', gamma=0, importance_type='gain',\n",
       "             learning_rate=0.1, max_delta_step=0, max_depth=5,\n",
       "             min_child_weight=6, missing=None, n_estimators=100, n_jobs=1,\n",
       "             nthread=None, objective='reg:squarederror', random_state=0,\n",
       "             reg_alpha=0, reg_lambda=1, scale_pos_weight=1, seed=None,\n",
       "             silent=None, subsample=0.9, verbosity=1)"
      ]
     },
     "execution_count": 7,
     "metadata": {},
     "output_type": "execute_result"
    }
   ],
   "source": [
    "boost_best_estimator"
   ]
  },
  {
   "cell_type": "markdown",
   "metadata": {},
   "source": [
    "##### Model 2: SVM"
   ]
  },
  {
   "cell_type": "code",
   "execution_count": 8,
   "metadata": {},
   "outputs": [],
   "source": [
    "%%capture\n",
    "random.seed(1)\n",
    "\n",
    "# fit SVM with 5-fold cross validation\n",
    "x.train = preprocessing.scale(x_train)\n",
    "linearsvr = LinearSVR(tol=0.01)\n",
    "parameters = {'C': [0.01, 0.1, 1, 10, 100]} \n",
    "r2 = make_scorer(r2_score, greater_is_better=True)\n",
    "clf = GridSearchCV(linearsvr, \n",
    "                   parameters, \n",
    "                   cv=5, \n",
    "                   scoring=r2)\n",
    "clf.fit(x.train, y_train)"
   ]
  },
  {
   "cell_type": "code",
   "execution_count": 9,
   "metadata": {},
   "outputs": [
    {
     "name": "stdout",
     "output_type": "stream",
     "text": [
      "Score: 0.7508273991238662\n"
     ]
    }
   ],
   "source": [
    "# cross validation score\n",
    "svm_best_params = clf.best_params_\n",
    "svm_best_estimator = clf.best_estimator_\n",
    "svm_score = clf.best_score_\n",
    "print(\"Score: \"+ str(svm_score))"
   ]
  },
  {
   "cell_type": "markdown",
   "metadata": {},
   "source": [
    "##### Model 3: Lasso"
   ]
  },
  {
   "cell_type": "code",
   "execution_count": 10,
   "metadata": {},
   "outputs": [],
   "source": [
    "%%capture\n",
    "random.seed(1)\n",
    "\n",
    "# fit LASSO with 5-fold cross validation\n",
    "lasso = Lasso()\n",
    "parameters = {'alpha': [1e-5,1e-4,1e-3,1e-2,1e-1,1e0,1e1,1e2,1e3,1e4,1e5]}\n",
    "r2 = make_scorer(r2_score, greater_is_better=True)\n",
    "clf = GridSearchCV(lasso, \n",
    "                   parameters, \n",
    "                   cv=5,\n",
    "                   scoring=r2)\n",
    "clf.fit(x_train, y_train)"
   ]
  },
  {
   "cell_type": "code",
   "execution_count": 11,
   "metadata": {},
   "outputs": [
    {
     "name": "stdout",
     "output_type": "stream",
     "text": [
      "Score: 0.781084670299074\n"
     ]
    }
   ],
   "source": [
    "# cross validation score\n",
    "lasso_best_params = clf.best_params_\n",
    "lasso_best_estimator = clf.best_estimator_\n",
    "lasso_score = clf.best_score_\n",
    "print(\"Score: \"+ str(lasso_score))"
   ]
  },
  {
   "cell_type": "markdown",
   "metadata": {},
   "source": [
    "### The LASSO Model"
   ]
  },
  {
   "cell_type": "code",
   "execution_count": 12,
   "metadata": {},
   "outputs": [
    {
     "name": "stderr",
     "output_type": "stream",
     "text": [
      "//anaconda3/lib/python3.7/site-packages/sklearn/linear_model/coordinate_descent.py:475: ConvergenceWarning: Objective did not converge. You might want to increase the number of iterations. Duality gap: 6470.521724458162, tolerance: 17.036366441485814\n",
      "  positive)\n"
     ]
    }
   ],
   "source": [
    "# retrain lasso model on full traning data\n",
    "lasso = Lasso(alpha=lasso_best_params['alpha'])\n",
    "final_model = lasso.fit(x_train, y_train)"
   ]
  },
  {
   "cell_type": "code",
   "execution_count": 13,
   "metadata": {},
   "outputs": [
    {
     "name": "stdout",
     "output_type": "stream",
     "text": [
      "intercept: 1.6732384180296382\n",
      "Days Since Release 0.0007138990535844604\n",
      "yeezy -2.0916984282060604\n",
      "airjordan 3.726383617537441\n",
      "airforce -1.1311906914110652\n",
      "airmax90 -0.2863663582799625\n",
      "airmax97 -0.17339025871110295\n",
      "presto 0.7194145142057492\n",
      "vapormax -1.5121187586969662\n",
      "blazer 0.8980769012727688\n",
      "zoom -2.0724055809736206\n",
      "react -1.5752395055123405\n",
      "California 0.05940400947520284\n",
      "New York -0.0031062061753604764\n",
      "Oregon -2.0567435839875397e-15\n",
      "Florida 0.035030048298578434\n",
      "Texas 0.0014123068369209498\n",
      "Other States -0.004690767417312767\n",
      "size_freq 0.2408919206700723\n",
      "Black 1.0600814890088015\n",
      "White 1.2694755584590267\n",
      "Grey 0.8735368219093556\n",
      "Red 1.9732263898871052\n",
      "Green 0.7588889609727959\n",
      "Neo 0.776859235885755\n",
      "Orange 1.4237948982368727\n",
      "Tan/Brown 2.375958012578484\n",
      "Pink 1.2457783818054227\n",
      "Blue -2.302586969712432\n",
      "Colorful -0.6431478571563565\n",
      "Number of Sales -3.0255769439499356e-05\n"
     ]
    }
   ],
   "source": [
    "# print regression results\n",
    "print(\"intercept:\", final_model.intercept_)\n",
    "variables = x_train.columns\n",
    "coefficients = final_model.coef_\n",
    "for i,name in enumerate(variables):\n",
    "    print(name, coefficients[i])"
   ]
  },
  {
   "cell_type": "code",
   "execution_count": 14,
   "metadata": {},
   "outputs": [
    {
     "name": "stdout",
     "output_type": "stream",
     "text": [
      "R²: 0.78\n",
      "mean_squared_error: 0.51\n"
     ]
    }
   ],
   "source": [
    "# test set performance\n",
    "y_pred = final_model.predict(x_test)\n",
    "print('R²: %.2f' % r2_score(y_test, y_pred))\n",
    "print(\"mean_squared_error: %.2f\" % mean_squared_error(y_test, y_pred))"
   ]
  }
 ],
 "metadata": {
  "kernelspec": {
   "display_name": "Python 3",
   "language": "python",
   "name": "python3"
  },
  "language_info": {
   "codemirror_mode": {
    "name": "ipython",
    "version": 3
   },
   "file_extension": ".py",
   "mimetype": "text/x-python",
   "name": "python",
   "nbconvert_exporter": "python",
   "pygments_lexer": "ipython3",
   "version": "3.7.3"
  }
 },
 "nbformat": 4,
 "nbformat_minor": 2
}
