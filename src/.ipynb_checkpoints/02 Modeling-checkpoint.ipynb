{
 "cells": [
  {
   "cell_type": "markdown",
   "metadata": {},
   "source": [
    "### Import Libraries"
   ]
  },
  {
   "cell_type": "code",
   "execution_count": 1,
   "metadata": {},
   "outputs": [],
   "source": [
    "# conda install -c conda-forge xgboost"
   ]
  },
  {
   "cell_type": "code",
   "execution_count": 2,
   "metadata": {},
   "outputs": [],
   "source": [
    "import pandas as pd\n",
    "import numpy as np\n",
    "import matplotlib.pyplot as plt\n",
    "\n",
    "from sklearn import preprocessing\n",
    "from sklearn.model_selection import train_test_split\n",
    "from sklearn.model_selection import GridSearchCV\n",
    "from sklearn.model_selection import learning_curve\n",
    "from sklearn.model_selection import cross_val_score\n",
    "from sklearn.model_selection import KFold\n",
    "\n",
    "from sklearn.metrics import  r2_score,mean_absolute_error,mean_squared_log_error,median_absolute_error,explained_variance_score\n",
    "from sklearn.metrics import mean_squared_error\n",
    "from sklearn.metrics import r2_score, mean_squared_error, make_scorer\n",
    "\n",
    "import xgboost as xgb\n",
    "from sklearn.ensemble import GradientBoostingRegressor\n",
    "\n",
    "from sklearn.svm import SVR\n",
    "from sklearn.svm import LinearSVR\n",
    "\n",
    "from sklearn.linear_model import LassoCV\n",
    "from sklearn.linear_model import Lasso"
   ]
  },
  {
   "cell_type": "markdown",
   "metadata": {},
   "source": [
    "### Preparing Data"
   ]
  },
  {
   "cell_type": "code",
   "execution_count": 5,
   "metadata": {},
   "outputs": [],
   "source": [
    "# read data\n",
    "data = pd.read_csv(\"../data/StockX-Data-Consolidated.csv\")\n",
    "data = data.rename(columns={\"Unnamed: 0\": \"index\"})"
   ]
  },
  {
   "cell_type": "code",
   "execution_count": 17,
   "metadata": {},
   "outputs": [],
   "source": [
    "# train-test split\n",
    "x = data.drop([\"Pct_change\",'Sale Price','index'], axis=1)\n",
    "y = data[\"Pct_change\"]\n",
    "x_train, x_test, y_train, y_test = train_test_split(x,y,test_size = 0.25, random_state = 42)"
   ]
  },
  {
   "cell_type": "markdown",
   "metadata": {},
   "source": [
    "### Model Selection"
   ]
  },
  {
   "cell_type": "code",
   "execution_count": 5,
   "metadata": {},
   "outputs": [],
   "source": [
    "# define scoring functions\n",
    "def MSE(y_true,y_pred):\n",
    "    mse = mean_squared_error(y_true, y_pred)\n",
    "    print('MSE: %2.3f' % mse)\n",
    "    return mse\n",
    "\n",
    "def R2(y_true,y_pred):    \n",
    "    r2 = r2_score(y_true, y_pred)\n",
    "    print('R2: %2.3f' % r2)\n",
    "    return r2\n",
    "\n",
    "def two_score(y_true,y_pred):    \n",
    "    MSE(y_true,y_pred)\n",
    "    score = R2(y_true,y_pred)\n",
    "    return score\n",
    "\n",
    "def two_scorer():\n",
    "    return make_scorer(two_score, greater_is_better=True)"
   ]
  },
  {
   "cell_type": "markdown",
   "metadata": {},
   "source": [
    "##### Model 1: XGBoost"
   ]
  },
  {
   "cell_type": "code",
   "execution_count": 4,
   "metadata": {},
   "outputs": [
    {
     "ename": "NameError",
     "evalue": "name 'two_scorer' is not defined",
     "output_type": "error",
     "traceback": [
      "\u001b[0;31m---------------------------------------------------------------------------\u001b[0m",
      "\u001b[0;31mNameError\u001b[0m                                 Traceback (most recent call last)",
      "\u001b[0;32m<ipython-input-4-ff3e4e02f17b>\u001b[0m in \u001b[0;36m<module>\u001b[0;34m\u001b[0m\n\u001b[1;32m      9\u001b[0m }\n\u001b[1;32m     10\u001b[0m \u001b[0mxg_reg\u001b[0m \u001b[0;34m=\u001b[0m \u001b[0mxgb\u001b[0m\u001b[0;34m.\u001b[0m\u001b[0mXGBRegressor\u001b[0m\u001b[0;34m(\u001b[0m\u001b[0;34m)\u001b[0m\u001b[0;34m\u001b[0m\u001b[0;34m\u001b[0m\u001b[0m\n\u001b[0;32m---> 11\u001b[0;31m \u001b[0mclf\u001b[0m \u001b[0;34m=\u001b[0m \u001b[0mGridSearchCV\u001b[0m\u001b[0;34m(\u001b[0m\u001b[0mxg_reg\u001b[0m\u001b[0;34m,\u001b[0m \u001b[0mparams\u001b[0m\u001b[0;34m,\u001b[0m \u001b[0mcv\u001b[0m\u001b[0;34m=\u001b[0m\u001b[0;36m5\u001b[0m\u001b[0;34m,\u001b[0m \u001b[0mscoring\u001b[0m\u001b[0;34m=\u001b[0m\u001b[0mtwo_scorer\u001b[0m\u001b[0;34m(\u001b[0m\u001b[0;34m)\u001b[0m\u001b[0;34m)\u001b[0m\u001b[0;34m\u001b[0m\u001b[0;34m\u001b[0m\u001b[0m\n\u001b[0m\u001b[1;32m     12\u001b[0m \u001b[0mclf\u001b[0m\u001b[0;34m.\u001b[0m\u001b[0mfit\u001b[0m\u001b[0;34m(\u001b[0m\u001b[0mx_train\u001b[0m\u001b[0;34m,\u001b[0m \u001b[0my_train\u001b[0m\u001b[0;34m)\u001b[0m\u001b[0;34m\u001b[0m\u001b[0;34m\u001b[0m\u001b[0m\n",
      "\u001b[0;31mNameError\u001b[0m: name 'two_scorer' is not defined"
     ]
    }
   ],
   "source": [
    "%%capture\n",
    "# fit XGBoost with 5-fold cross validation\n",
    "params = {\n",
    "    'max_depth':8,\n",
    "    'min_child_weight': 5,\n",
    "    'eta':.45,\n",
    "    'subsample': 1,\n",
    "    'colsample_bytree': 1,\n",
    "    'objective':'reg:squarederror',\n",
    "}\n",
    "xg_reg = xgb.XGBRegressor()\n",
    "clf = GridSearchCV(xg_reg, params, cv=5, scoring=two_scorer())\n",
    "clf.fit(x_train, y_train)"
   ]
  },
  {
   "cell_type": "code",
   "execution_count": 18,
   "metadata": {},
   "outputs": [
    {
     "name": "stdout",
     "output_type": "stream",
     "text": [
      "R^2: 0.9282953911510902\n"
     ]
    }
   ],
   "source": [
    "boost_best_params = clf.best_params_\n",
    "boost_best_estimator = clf.best_estimator_\n",
    "boost_score = clf.best_score_\n",
    "print(\"R^2: \"+ str(boost_score))"
   ]
  },
  {
   "cell_type": "markdown",
   "metadata": {},
   "source": [
    "##### Model 2: SVM"
   ]
  },
  {
   "cell_type": "code",
   "execution_count": 14,
   "metadata": {},
   "outputs": [],
   "source": [
    "%%capture\n",
    "# fit SVM with 5-fold cross validation\n",
    "x_train = preprocessing.scale(x_train)\n",
    "linearsvr = LinearSVR()\n",
    "clf = GridSearchCV(LinearSVR(tol=0.01), cv=5, param_grid={\"C\": [0.01,0.1,1e0,1e1]}, scoring=two_scorer())\n",
    "clf.fit(x_train, y_train)"
   ]
  },
  {
   "cell_type": "code",
   "execution_count": 16,
   "metadata": {},
   "outputs": [
    {
     "name": "stdout",
     "output_type": "stream",
     "text": [
      "R^2: 0.750519702300101\n"
     ]
    }
   ],
   "source": [
    "# best model score\n",
    "svm_best_params = clf.best_params_\n",
    "svm_best_estimator = clf.best_estimator_\n",
    "svm_score = clf.best_score_\n",
    "print(\"R^2: \"+ str(svm_score))"
   ]
  },
  {
   "cell_type": "markdown",
   "metadata": {},
   "source": [
    "##### Model 3: Lasso"
   ]
  },
  {
   "cell_type": "code",
   "execution_count": 6,
   "metadata": {},
   "outputs": [],
   "source": [
    "%%capture\n",
    "# fit LASSO with 5-fold cross validation\n",
    "lasso = Lasso(random_state=0, max_iter=10000)\n",
    "parameters = [{'alpha': [0.001, 0.01, 0.1, 1, 10, 100]}]\n",
    "clf = GridSearchCV(lasso, parameters, cv=5, scoring=two_scorer())\n",
    "clf.fit(x_train, y_train)"
   ]
  },
  {
   "cell_type": "code",
   "execution_count": 7,
   "metadata": {},
   "outputs": [
    {
     "name": "stdout",
     "output_type": "stream",
     "text": [
      "R^2: 0.7789707559931465\n"
     ]
    }
   ],
   "source": [
    "lasso_best_params = clf.best_params_\n",
    "lasso_best_estimator = clf.best_estimator_\n",
    "lasso_score = clf.best_score_\n",
    "print(\"R^2: \"+ str(lasso_score))"
   ]
  },
  {
   "cell_type": "markdown",
   "metadata": {},
   "source": [
    "### The LASSO Model"
   ]
  },
  {
   "cell_type": "code",
   "execution_count": 26,
   "metadata": {},
   "outputs": [
    {
     "name": "stdout",
     "output_type": "stream",
     "text": [
      "intercept 1.7385674152228654\n",
      "Days Since Release 0.0008867562473585179\n",
      "yeezy -1.7780129326512497\n",
      "airjordan 3.655533658402066\n",
      "airforce -0.7026203348785043\n",
      "airmax90 0.0\n",
      "airmax97 0.02299535464981576\n",
      "presto 0.9944213286292918\n",
      "vapormax -1.1903759080761882\n",
      "blazer 1.0695299680357326\n",
      "zoom -1.7556322609646324\n",
      "react -1.1259204071386169\n",
      "California 0.05663083895476324\n",
      "New York -0.0\n",
      "Oregon -0.0\n",
      "Florida 0.01890581020691105\n",
      "Texas 0.0\n",
      "Other States -0.002617679953202299\n",
      "size_freq 0.0\n",
      "Black 0.7680365288406558\n",
      "White 0.9754043889726517\n",
      "Grey 0.5672851506037508\n",
      "Red 1.8557681413743325\n",
      "Green 0.05688665753675684\n",
      "Neo 0.4725738773015827\n",
      "Orange 1.0271467102604108\n",
      "Tan/Brown 1.9354964584429748\n",
      "Pink 0.8892537208755394\n",
      "Blue -2.2053032269024433\n",
      "Colorful -0.3731773483606293\n",
      "Number of Sales -3.440560039526971e-05\n"
     ]
    }
   ],
   "source": [
    "# Lasso Regression Results\n",
    "print(\"intercept\", lasso_best_estimator.intercept_)\n",
    "variables = x_train.columns\n",
    "coefficients = lasso_best_estimator.coef_\n",
    "for i,name in enumerate(variables):\n",
    "    print(name,coefficients[i])"
   ]
  },
  {
   "cell_type": "code",
   "execution_count": 21,
   "metadata": {},
   "outputs": [
    {
     "name": "stdout",
     "output_type": "stream",
     "text": [
      "R²: 0.77\n",
      "mean_squared_error: 0.52\n"
     ]
    }
   ],
   "source": [
    "# Test Set Performance\n",
    "y_pred = clf.predict(x_test)\n",
    "print('R²: %.2f' % r2_score(y_test, y_pred))\n",
    "print(\"mean_squared_error: %.2f\" % mean_squared_error(y_test, y_pred))"
   ]
  }
 ],
 "metadata": {
  "kernelspec": {
   "display_name": "Python 3",
   "language": "python",
   "name": "python3"
  },
  "language_info": {
   "codemirror_mode": {
    "name": "ipython",
    "version": 3
   },
   "file_extension": ".py",
   "mimetype": "text/x-python",
   "name": "python",
   "nbconvert_exporter": "python",
   "pygments_lexer": "ipython3",
   "version": "3.7.3"
  }
 },
 "nbformat": 4,
 "nbformat_minor": 2
}
